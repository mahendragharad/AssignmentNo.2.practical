{
  "nbformat": 4,
  "nbformat_minor": 0,
  "metadata": {
    "colab": {
      "provenance": []
    },
    "kernelspec": {
      "name": "python3",
      "display_name": "Python 3"
    },
    "language_info": {
      "name": "python"
    }
  },
  "cells": [
    {
      "cell_type": "markdown",
      "source": [
        "#####**ASSIGNMENT NO.2**"
      ],
      "metadata": {
        "id": "DmDI34acGIjb"
      }
    },
    {
      "cell_type": "markdown",
      "source": [
        "**Question No.1.] What are the two values of the Boolean data type? How do you write them?**\n",
        "\n",
        "**ANS :=** In python we have inbuilt datatype that is boolean. This datatype perform operations on basis of 'True' and 'False' condition.\n",
        "\n",
        "There are two values of boolean data-type that is True & False \n",
        "\n",
        "\n",
        "*   True -> True is denoted by '1'\n",
        "*   False -> False is denoted by '0'\n",
        "\n",
        "Here see the below code to understand how we use the boolean values\n",
        "\n"
      ],
      "metadata": {
        "id": "U0g0SxnqGU7z"
      }
    },
    {
      "cell_type": "code",
      "source": [
        "a = True \n",
        "type(a)\n",
        "\n",
        "b = False \n",
        "type(b)"
      ],
      "metadata": {
        "colab": {
          "base_uri": "https://localhost:8080/"
        },
        "id": "9fhWXVvqGIU8",
        "outputId": "bf66c580-3ee8-48e8-ba07-20b12eaa9d33"
      },
      "execution_count": null,
      "outputs": [
        {
          "output_type": "execute_result",
          "data": {
            "text/plain": [
              "bool"
            ]
          },
          "metadata": {},
          "execution_count": 8
        }
      ]
    },
    {
      "cell_type": "markdown",
      "source": [
        "*   Here above example shows us the type of the variable."
      ],
      "metadata": {
        "id": "B2Ar2xVxJMXo"
      }
    },
    {
      "cell_type": "code",
      "execution_count": null,
      "metadata": {
        "colab": {
          "base_uri": "https://localhost:8080/"
        },
        "id": "i-cS0mVEGD62",
        "outputId": "4ece41fe-f966-4dc4-87be-2f62d24e400c"
      },
      "outputs": [
        {
          "output_type": "stream",
          "name": "stdout",
          "text": [
            "False\n"
          ]
        }
      ],
      "source": [
        "a = 22\n",
        "b = 33 \n",
        "\n",
        "print(bool(a==b))"
      ]
    },
    {
      "cell_type": "code",
      "source": [
        "a = 22\n",
        "b = 33 \n",
        "\n",
        "print(bool(a != b))"
      ],
      "metadata": {
        "colab": {
          "base_uri": "https://localhost:8080/"
        },
        "id": "ecf9v2e1Jgzf",
        "outputId": "d57cc405-2757-4219-9616-a12ddbe917ae"
      },
      "execution_count": null,
      "outputs": [
        {
          "output_type": "stream",
          "name": "stdout",
          "text": [
            "True\n"
          ]
        }
      ]
    },
    {
      "cell_type": "markdown",
      "source": [
        "\n",
        "\n",
        "*  In the 1st example we are checking that a == b or not. So the value of the a is 22 and value of b is 33 so it is clear that a is not equal to b so here condition becomes false. So it return us false.\n",
        "\n",
        "*  In the second example we are checking that a != b. So it is clear that 22 is not equal to 33. So at the end it return true on the basis of our condition.\n",
        "\n"
      ],
      "metadata": {
        "id": "Rn8ibp35JoUt"
      }
    },
    {
      "cell_type": "markdown",
      "source": [
        "-------------------------------------------------------------------------------------------"
      ],
      "metadata": {
        "id": "iHt-p-XmGHyX"
      }
    },
    {
      "cell_type": "markdown",
      "source": [
        "**Question No.2] What are the three different types of Boolean operators?**\n",
        "\n",
        "**ANS :=** There are three types of boolean operators that is \n",
        "\n",
        "*   **NOT**\n",
        "*   **OR**\n",
        "*   **AND**\n",
        " \n",
        "     \n",
        "  **1. NOT :=** Not operator reverse the final result of boolean expression\n",
        "\n",
        "  *  not(True) = False \n",
        "  *  not(false) = True\n",
        "\n",
        "\n"
      ],
      "metadata": {
        "id": "gWuMP59-LgVX"
      }
    },
    {
      "cell_type": "code",
      "source": [
        "not(True)"
      ],
      "metadata": {
        "colab": {
          "base_uri": "https://localhost:8080/"
        },
        "id": "dw8fM7L6LZXR",
        "outputId": "57146563-3699-4b82-d4b6-8bc08e4243bd"
      },
      "execution_count": null,
      "outputs": [
        {
          "output_type": "execute_result",
          "data": {
            "text/plain": [
              "False"
            ]
          },
          "metadata": {},
          "execution_count": 12
        }
      ]
    },
    {
      "cell_type": "code",
      "source": [
        "not(False)"
      ],
      "metadata": {
        "colab": {
          "base_uri": "https://localhost:8080/"
        },
        "id": "EoYggaR1RuZ2",
        "outputId": "9659835a-07ff-45db-a597-d1ae34ae7541"
      },
      "execution_count": null,
      "outputs": [
        {
          "output_type": "execute_result",
          "data": {
            "text/plain": [
              "True"
            ]
          },
          "metadata": {},
          "execution_count": 13
        }
      ]
    },
    {
      "cell_type": "markdown",
      "source": [
        "**2. OR :=** 'OR' operator is similar to the bitwise 'OR' operator it return 'True' if among two conditions one condition becomes 'True'\n",
        "It return 'False' when both condition becomes 'False'\n",
        "\n",
        "See the following examples"
      ],
      "metadata": {
        "id": "38sBklhiR6Uc"
      }
    },
    {
      "cell_type": "code",
      "source": [
        "# 1st exapmle \n",
        "a = 66 \n",
        "b = 77 \n",
        "\n",
        "if a == b or a != b  :\n",
        "  print(\"hellow world\")\n",
        "else :\n",
        "  print(\"hellow buddy\")"
      ],
      "metadata": {
        "colab": {
          "base_uri": "https://localhost:8080/"
        },
        "id": "JgWZtwzaR278",
        "outputId": "f479d723-f591-4fab-a11d-b352dafc7a01"
      },
      "execution_count": null,
      "outputs": [
        {
          "output_type": "stream",
          "name": "stdout",
          "text": [
            "hellow world\n"
          ]
        }
      ]
    },
    {
      "cell_type": "markdown",
      "source": [
        "*    In the first exapmle one condition become true (a != b )  then it return us 'hellow world' as the output."
      ],
      "metadata": {
        "id": "qJyDJ8ZKUABg"
      }
    },
    {
      "cell_type": "code",
      "source": [
        "# 2nd example \n",
        "a = 66 \n",
        "b = 77 \n",
        "c = 45\n",
        "\n",
        "if a == b or a + b < c  :\n",
        "  print(\"hellow world\")\n",
        "else :\n",
        "  print(\"hellow buddy\")"
      ],
      "metadata": {
        "colab": {
          "base_uri": "https://localhost:8080/"
        },
        "id": "HlyvWLDwS3b8",
        "outputId": "9a874d33-f9b5-48f6-89c8-50be9daeb3f5"
      },
      "execution_count": null,
      "outputs": [
        {
          "output_type": "stream",
          "name": "stdout",
          "text": [
            "hellow buddy\n"
          ]
        }
      ]
    },
    {
      "cell_type": "markdown",
      "source": [
        "*   In the second example when both conditions becomes false it give us the output as 'hellow buddy'."
      ],
      "metadata": {
        "id": "ykFeUTLNUTdD"
      }
    },
    {
      "cell_type": "markdown",
      "source": [
        "**3. AND :=** 'AND operator is the thid boolean operator which we have seen it is similar to the bitwise 'AND' operator\n",
        "\n",
        "Quality of the 'AND' operator is that it return true if both conditions becomes true otherwise it return false.\n",
        "\n",
        "See the following example."
      ],
      "metadata": {
        "id": "Z-hMFuyUUqsn"
      }
    },
    {
      "cell_type": "code",
      "source": [
        "# 1st example\n",
        "a = 44 \n",
        "b = 44 \n",
        "c = 565\n",
        "\n",
        "if a == b and a + b < c :\n",
        "  print(\"hellow world\")\n",
        "else :\n",
        "  print(\"hellow buddy\")"
      ],
      "metadata": {
        "colab": {
          "base_uri": "https://localhost:8080/"
        },
        "id": "wLpfEcTZTzEs",
        "outputId": "01ac3f69-7dbb-4dee-f75d-fa80a75fff86"
      },
      "execution_count": null,
      "outputs": [
        {
          "output_type": "stream",
          "name": "stdout",
          "text": [
            "hellow world\n"
          ]
        }
      ]
    },
    {
      "cell_type": "markdown",
      "source": [
        "*   In the 1st example both conditions are becomes 'True' then it return the output as 'hellow world'"
      ],
      "metadata": {
        "id": "5h-8j1JMWYZv"
      }
    },
    {
      "cell_type": "code",
      "source": [
        "# 2nd example\n",
        "a = 44 \n",
        "b = 44 \n",
        "c = 565\n",
        "\n",
        "if a == b and a + b > c :\n",
        "  print(\"hellow world\")\n",
        "else :\n",
        "  print(\"hellow buddy\")"
      ],
      "metadata": {
        "colab": {
          "base_uri": "https://localhost:8080/"
        },
        "id": "W0kFvRIaWJZU",
        "outputId": "63377277-b23d-4b99-e9d0-7698bd29e72a"
      },
      "execution_count": null,
      "outputs": [
        {
          "output_type": "stream",
          "name": "stdout",
          "text": [
            "hellow buddy\n"
          ]
        }
      ]
    },
    {
      "cell_type": "markdown",
      "source": [
        "*  In the 2nd example one conditions( a + b > c ) are becomes 'False' then it return the output as 'hellow buddy'"
      ],
      "metadata": {
        "id": "XGGBDQb6W4bN"
      }
    },
    {
      "cell_type": "markdown",
      "source": [
        "--------------------------------------------------------------------------------"
      ],
      "metadata": {
        "id": "bEB4_m3vcspa"
      }
    },
    {
      "cell_type": "markdown",
      "source": [
        "##### **Question No. 3.] Make a list of each Boolean operator's truth tables (i.e. every possible combination of Boolean values for the operator and what it evaluate ).**\n",
        "\n",
        "**ANS :=**\n"
      ],
      "metadata": {
        "id": "z5tYMbydcziC"
      }
    },
    {
      "cell_type": "code",
      "source": [
        "# AND operator ( & )\n",
        "print(\"AND operator ( & )\")\n",
        "print(\"p\\tq\\tp & q\")\n",
        "print(\"True\\tTrue\\t\", True & True)\n",
        "print(\"True\\tFalse\\t\", True & False)\n",
        "print(\"False\\tTrue\\t\", False & True)\n",
        "print(\"False\\tFalse\\t\", False & False)\n",
        "\n",
        "# OR operator ( | )\n",
        "print(\"\\nOR operator ( | )\")\n",
        "print(\"p\\tq\\tp | q\")\n",
        "print(\"True\\tTrue\\t\", True | True)\n",
        "print(\"True\\tFalse\\t\", True | False)\n",
        "print(\"False\\tTrue\\t\", False | True)\n",
        "print(\"False\\tFalse\\t\", False | False)\n",
        "\n",
        "# NOT operator ( ~ )\n",
        "print(\"\\nNOT operator ( ~ )\")\n",
        "print(\"p\\t~p\")\n",
        "print(\"True\\t\", not True)\n",
        "print(\"False\\t\", not False)"
      ],
      "metadata": {
        "colab": {
          "base_uri": "https://localhost:8080/"
        },
        "id": "5LrlpSfAcsaT",
        "outputId": "b4694844-c108-4779-91dd-7aad9f2f9148"
      },
      "execution_count": 1,
      "outputs": [
        {
          "output_type": "stream",
          "name": "stdout",
          "text": [
            "AND operator ( & )\n",
            "p\tq\tp & q\n",
            "True\tTrue\t True\n",
            "True\tFalse\t False\n",
            "False\tTrue\t False\n",
            "False\tFalse\t False\n",
            "\n",
            "OR operator ( | )\n",
            "p\tq\tp | q\n",
            "True\tTrue\t True\n",
            "True\tFalse\t True\n",
            "False\tTrue\t True\n",
            "False\tFalse\t False\n",
            "\n",
            "NOT operator ( ~ )\n",
            "p\t~p\n",
            "True\t False\n",
            "False\t True\n"
          ]
        }
      ]
    },
    {
      "cell_type": "markdown",
      "source": [
        "--------------------------------------------------------------------------------"
      ],
      "metadata": {
        "id": "wE8fM1JkeJb4"
      }
    },
    {
      "cell_type": "markdown",
      "source": [
        "**Question No.4] 4. What are the values of the following expressions?**\n",
        "\n",
        "**ANS :=**\n",
        "\n",
        "(5 > 4) and (3 == 5) = False \n",
        "\n",
        "not (5 > 4) = False \n",
        "\n",
        "(5 > 4) or (3 == 5) = True \n",
        "\n",
        "not ((5 > 4) or (3 == 5)) = False \n",
        "\n",
        "(True and True) and (True == False) = False \n",
        "\n",
        "(not False) or (not True) = True "
      ],
      "metadata": {
        "id": "6du6QTZ7eNEB"
      }
    },
    {
      "cell_type": "code",
      "source": [
        "(5 > 4) and (3 == 5)"
      ],
      "metadata": {
        "id": "ORf7BCrUWWpD",
        "colab": {
          "base_uri": "https://localhost:8080/"
        },
        "outputId": "58cbf3b3-f176-451c-ce2e-44fcf57feb45"
      },
      "execution_count": 2,
      "outputs": [
        {
          "output_type": "execute_result",
          "data": {
            "text/plain": [
              "False"
            ]
          },
          "metadata": {},
          "execution_count": 2
        }
      ]
    },
    {
      "cell_type": "code",
      "source": [
        "not (5 > 4)"
      ],
      "metadata": {
        "colab": {
          "base_uri": "https://localhost:8080/"
        },
        "id": "az_Xfldhe5-Z",
        "outputId": "d2c852be-d0d4-44b2-b740-f0b96f22d5a4"
      },
      "execution_count": 3,
      "outputs": [
        {
          "output_type": "execute_result",
          "data": {
            "text/plain": [
              "False"
            ]
          },
          "metadata": {},
          "execution_count": 3
        }
      ]
    },
    {
      "cell_type": "code",
      "source": [
        "(5 > 4) or (3 == 5)"
      ],
      "metadata": {
        "colab": {
          "base_uri": "https://localhost:8080/"
        },
        "id": "WTJ6Zefve8l3",
        "outputId": "4b97715a-94c7-487a-a269-6831e0ccfe03"
      },
      "execution_count": 4,
      "outputs": [
        {
          "output_type": "execute_result",
          "data": {
            "text/plain": [
              "True"
            ]
          },
          "metadata": {},
          "execution_count": 4
        }
      ]
    },
    {
      "cell_type": "code",
      "source": [
        "not ((5 > 4) or (3 == 5))"
      ],
      "metadata": {
        "colab": {
          "base_uri": "https://localhost:8080/"
        },
        "id": "iG1X3YOYe_o9",
        "outputId": "917d7093-d073-4bc2-aedb-21f536af10ce"
      },
      "execution_count": 5,
      "outputs": [
        {
          "output_type": "execute_result",
          "data": {
            "text/plain": [
              "False"
            ]
          },
          "metadata": {},
          "execution_count": 5
        }
      ]
    },
    {
      "cell_type": "code",
      "source": [
        "(True and True) and (True == False)"
      ],
      "metadata": {
        "colab": {
          "base_uri": "https://localhost:8080/"
        },
        "id": "8h7oPBLyfCFO",
        "outputId": "55ebc99d-8f81-474d-b0ec-15cbff9f295f"
      },
      "execution_count": 6,
      "outputs": [
        {
          "output_type": "execute_result",
          "data": {
            "text/plain": [
              "False"
            ]
          },
          "metadata": {},
          "execution_count": 6
        }
      ]
    },
    {
      "cell_type": "code",
      "source": [
        "(not False) or (not True)"
      ],
      "metadata": {
        "colab": {
          "base_uri": "https://localhost:8080/"
        },
        "id": "C8MUJjz-fG82",
        "outputId": "eec343e9-7b69-43f6-b9a1-70a7f828592d"
      },
      "execution_count": 7,
      "outputs": [
        {
          "output_type": "execute_result",
          "data": {
            "text/plain": [
              "True"
            ]
          },
          "metadata": {},
          "execution_count": 7
        }
      ]
    },
    {
      "cell_type": "markdown",
      "source": [
        "--------------------------------------------------------------------------------"
      ],
      "metadata": {
        "id": "HmP4jNJefwON"
      }
    },
    {
      "cell_type": "markdown",
      "source": [
        "**Question No.5] 5. What are the six comparison operators?**\n",
        "\n",
        "**ANS :=**\n"
      ],
      "metadata": {
        "id": "_x5C90quf0Nx"
      }
    },
    {
      "cell_type": "code",
      "source": [
        "# Operator      \tName\t\n",
        "# ==\t    ->     Equal\tx == y\t\n",
        "# !=\t    ->     Not equal\tx != y\t\n",
        "# >       ->  \t Greater than\tx > y\t\n",
        "# <       ->   \t Less than\tx < y\t\n",
        "# >=      ->  \t Greater than or equal to\tx >= y\t\n",
        "# <=\t    ->     Less than or equal to"
      ],
      "metadata": {
        "id": "LywJtbXifWPi"
      },
      "execution_count": null,
      "outputs": []
    },
    {
      "cell_type": "markdown",
      "source": [
        "----------------------------------------------------------------------------------"
      ],
      "metadata": {
        "id": "YrVgH2KWhPw-"
      }
    },
    {
      "cell_type": "markdown",
      "source": [
        "**Question No.6] How do you tell the difference between the equal to and assignment operators?Describe a condition and when you would use one.**\n",
        "\n",
        "**ANS :=**\n",
        "\n",
        "\n",
        "**1.] Eqaul To Operator :=**\n",
        "\n",
        "\"==\" ---> This is the equal to operator which is used for comparision \n",
        "     \n",
        "*  For exapmle \n",
        "*  if a == b Then it return true value and if a a != b (is not eqaul to b) then it return false value\n",
        "\n",
        "**2.] Assignment operator**\n",
        "'=' ---> This is called assignment operator it is used to assign value to the variable so later in program we will able to use it for further operation\n",
        "\n",
        "*   For exapmple \n",
        "*   a = 34 \n",
        "*   Then the value of a become 34 "
      ],
      "metadata": {
        "id": "YtJL38JwhaGl"
      }
    },
    {
      "cell_type": "code",
      "source": [
        "a = 34\n",
        "print(a)"
      ],
      "metadata": {
        "colab": {
          "base_uri": "https://localhost:8080/"
        },
        "id": "0gq1aUj6hRXI",
        "outputId": "c364c2ff-daa7-4968-c9e0-8239b67211ce"
      },
      "execution_count": 9,
      "outputs": [
        {
          "output_type": "stream",
          "name": "stdout",
          "text": [
            "34\n"
          ]
        }
      ]
    },
    {
      "cell_type": "markdown",
      "source": [
        "------------------------------------------------------------------------------------"
      ],
      "metadata": {
        "id": "h3xtqEHzjxcX"
      }
    },
    {
      "cell_type": "markdown",
      "source": [
        "**Question No.7] Identify the three blocks in this code:**\n",
        "\n",
        "spam = 0\n",
        "\n",
        "if spam == 10:\n",
        "\n",
        "print('eggs')\n",
        "\n",
        "\n",
        "\n",
        "\n",
        "\n",
        "\n",
        "if spam > 5:\n",
        "\n",
        "print('bacon')\n",
        "\n",
        "else:\n",
        "\n",
        "print('ham')\n",
        "\n",
        "print('spam')\n",
        "\n",
        "print('spam')\n",
        "\n",
        "**ANS :=**\n",
        "\n"
      ],
      "metadata": {
        "id": "OvWkiQedj5Rc"
      }
    },
    {
      "cell_type": "code",
      "source": [
        "spam = 0\n",
        "\n",
        "if spam == 10:\n",
        "   print('eggs')  \n",
        "#  This is the first block of the code \n",
        "\n",
        "if spam > 5:\n",
        "  print('bacon')\n",
        "#  This is the second block of the code \n",
        "\n",
        "else:\n",
        "  print('ham')\n",
        "  print('spam')\n",
        "  print('spam')\n",
        "#  This is the third block of the code "
      ],
      "metadata": {
        "colab": {
          "base_uri": "https://localhost:8080/"
        },
        "id": "nDCyfLDqjsd5",
        "outputId": "451552c1-7e69-432a-d9ab-d323fa4f41b4"
      },
      "execution_count": 10,
      "outputs": [
        {
          "output_type": "stream",
          "name": "stdout",
          "text": [
            "ham\n",
            "spam\n",
            "spam\n"
          ]
        }
      ]
    },
    {
      "cell_type": "markdown",
      "source": [
        "----------------------------------------------------------------------------------"
      ],
      "metadata": {
        "id": "sIgnQ7S7lhDH"
      }
    },
    {
      "cell_type": "markdown",
      "source": [
        "**Question No.8] Write code that prints Hello if 1 is stored in spam, prints Howdy if 2 is stored in spam, and prints Greetings! if anything else is stored in spam.**\n",
        "\n",
        "**ANS :=**"
      ],
      "metadata": {
        "id": "8BuX4LFilvlL"
      }
    },
    {
      "cell_type": "code",
      "source": [
        "spam = int(input(\"Enter the number : \"))\n",
        "\n",
        "if spam == 1 :\n",
        "  print(\"Hello\")\n",
        "elif spam == 2 :\n",
        "  print(\"Howdy\")\n",
        "else :\n",
        "  print(\"Greetings!\")"
      ],
      "metadata": {
        "colab": {
          "base_uri": "https://localhost:8080/"
        },
        "id": "_Mw9IQjnk95N",
        "outputId": "2d6b3f09-0a34-4ba9-8698-304b848ba10a"
      },
      "execution_count": 11,
      "outputs": [
        {
          "output_type": "stream",
          "name": "stdout",
          "text": [
            "Enter the number : 1\n",
            "Hello\n"
          ]
        }
      ]
    },
    {
      "cell_type": "code",
      "source": [
        "spam = int(input(\"Enter the number : \"))\n",
        "\n",
        "if spam == 1 :\n",
        "  print(\"Hello\")\n",
        "elif spam == 2 :\n",
        "  print(\"Howdy\")\n",
        "else :\n",
        "  print(\"Greetings!\")"
      ],
      "metadata": {
        "colab": {
          "base_uri": "https://localhost:8080/"
        },
        "id": "SB9yUvrVmd0G",
        "outputId": "e6147e97-ccf5-4d31-92d2-3aad4ab34c8a"
      },
      "execution_count": 12,
      "outputs": [
        {
          "output_type": "stream",
          "name": "stdout",
          "text": [
            "Enter the number : 2\n",
            "Howdy\n"
          ]
        }
      ]
    },
    {
      "cell_type": "code",
      "source": [
        "spam = int(input(\"Enter the number : \"))\n",
        "\n",
        "if spam == 1 :\n",
        "  print(\"Hello\")\n",
        "elif spam == 2 :\n",
        "  print(\"Howdy\")\n",
        "else :\n",
        "  print(\"Greetings!\")"
      ],
      "metadata": {
        "colab": {
          "base_uri": "https://localhost:8080/"
        },
        "id": "BpR37oqNmhAI",
        "outputId": "e529a4ad-2ab9-4111-f68a-4ae56a82ae0b"
      },
      "execution_count": 13,
      "outputs": [
        {
          "output_type": "stream",
          "name": "stdout",
          "text": [
            "Enter the number : 34\n",
            "Greetings!\n"
          ]
        }
      ]
    },
    {
      "cell_type": "markdown",
      "source": [
        "--------------------------------------------------------------------------------------"
      ],
      "metadata": {
        "id": "hXwKKRuNmpA1"
      }
    },
    {
      "cell_type": "markdown",
      "source": [
        "**Question No.9] If your programme is stuck in an endless loop, what keys you’ll press?**\n",
        "\n",
        "**ANS := ctrl+c**"
      ],
      "metadata": {
        "id": "UXMWWKmQmuaD"
      }
    },
    {
      "cell_type": "markdown",
      "source": [
        "--------------------------------------------------------------------------------"
      ],
      "metadata": {
        "id": "y92iq8jqnCJ-"
      }
    },
    {
      "cell_type": "markdown",
      "source": [
        "**Question No.10] How can you tell the difference between break and continue?**\n",
        "\n",
        "**ANS :=**\n",
        "\n",
        "**1.] Continue :=**\n",
        "If we don't want to break the loop but still we want to perform operation by skipping some condition then at that time we use continue statement \n",
        "\n",
        "To understand it better see the below code \n",
        "\n",
        "In the below code by assuming the condition that is i % 2 == 0 for if this condition is satisfy then we skip those value which gives the remainder 0 by divinding i % 2 and print those value which are not completely divided by 2\n",
        "\n",
        "Here we use continue statement to skip those values which are completely divisible by 2 "
      ],
      "metadata": {
        "id": "w7RW-reWne7C"
      }
    },
    {
      "cell_type": "code",
      "source": [
        "for i in range(1,11) :\n",
        "  if i % 2 == 0 :\n",
        "    continue\n",
        "  print(i)"
      ],
      "metadata": {
        "colab": {
          "base_uri": "https://localhost:8080/"
        },
        "id": "3pi4OIJtmlBQ",
        "outputId": "5445bbaf-f9b0-4230-dea9-deee254381d9"
      },
      "execution_count": 28,
      "outputs": [
        {
          "output_type": "stream",
          "name": "stdout",
          "text": [
            "1\n",
            "3\n",
            "5\n",
            "7\n",
            "9\n"
          ]
        }
      ]
    },
    {
      "cell_type": "markdown",
      "source": [
        "**2.] Break :=**  Break statement is used to break the loop on the basis of some condition \n",
        "\n",
        "See the following example to understand it better \n",
        "\n",
        "In below code the loop will be breaked when the condition is satisfied"
      ],
      "metadata": {
        "id": "CuAQvDeJqfyw"
      }
    },
    {
      "cell_type": "code",
      "source": [
        "for i in range(1,10) :\n",
        "  if i > 5 :\n",
        "    break \n",
        "  print(i)"
      ],
      "metadata": {
        "colab": {
          "base_uri": "https://localhost:8080/"
        },
        "id": "alloRGg7ozV1",
        "outputId": "1cd0979a-7394-48e0-a103-e08281ce4894"
      },
      "execution_count": 30,
      "outputs": [
        {
          "output_type": "stream",
          "name": "stdout",
          "text": [
            "1\n",
            "2\n",
            "3\n",
            "4\n",
            "5\n"
          ]
        }
      ]
    },
    {
      "cell_type": "markdown",
      "source": [
        "---------------------------------------------------------------------------------------"
      ],
      "metadata": {
        "id": "Gm6wvtYWrsiC"
      }
    },
    {
      "cell_type": "markdown",
      "source": [
        "**Questioin No.11] In a for loop, what is the difference between range(10), range(0, 10), and range(0, 10, 1)?**\n",
        "\n",
        "**ANS :=** "
      ],
      "metadata": {
        "id": "U0N-6kTYr3Lr"
      }
    },
    {
      "cell_type": "markdown",
      "source": [
        "**1st range(10) := In this simply it print the 10 values in range of 0 to 9** "
      ],
      "metadata": {
        "id": "-DUOuAlNtEoG"
      }
    },
    {
      "cell_type": "code",
      "source": [
        "for i in range(10) :\n",
        "  print(i)"
      ],
      "metadata": {
        "colab": {
          "base_uri": "https://localhost:8080/"
        },
        "id": "OF_6yGRtrV5a",
        "outputId": "52e221af-2562-4782-c332-61bf39929a33"
      },
      "execution_count": 32,
      "outputs": [
        {
          "output_type": "stream",
          "name": "stdout",
          "text": [
            "0\n",
            "1\n",
            "2\n",
            "3\n",
            "4\n",
            "5\n",
            "6\n",
            "7\n",
            "8\n",
            "9\n"
          ]
        }
      ]
    },
    {
      "cell_type": "markdown",
      "source": [
        "---------------------------------------------------------------------------------------"
      ],
      "metadata": {
        "id": "ACOp6Reixhdi"
      }
    },
    {
      "cell_type": "markdown",
      "source": [
        "**2nd range(0,10) := In this simply it also print the 10 values from 0 to 9.\n",
        "In this condition '0' is the starting point and '10' is the ending point\n",
        "We can also make the changes as per our requirements we can put any value on the place of '0' and also on the place of '10'**"
      ],
      "metadata": {
        "id": "95zjFf5MtKfS"
      }
    },
    {
      "cell_type": "code",
      "source": [
        "for i in range(0,10) :\n",
        "  print(i)"
      ],
      "metadata": {
        "colab": {
          "base_uri": "https://localhost:8080/"
        },
        "id": "EcbFRrpgsKT4",
        "outputId": "27c70b42-23e7-419f-d6ef-d297dbbc5c99"
      },
      "execution_count": 33,
      "outputs": [
        {
          "output_type": "stream",
          "name": "stdout",
          "text": [
            "0\n",
            "1\n",
            "2\n",
            "3\n",
            "4\n",
            "5\n",
            "6\n",
            "7\n",
            "8\n",
            "9\n"
          ]
        }
      ]
    },
    {
      "cell_type": "markdown",
      "source": [
        "-------------------------------------------------------------------------------------"
      ],
      "metadata": {
        "id": "Su9IzTxvxlmY"
      }
    },
    {
      "cell_type": "markdown",
      "source": [
        "**3rd range(0,10,1) := In this third condition '0' is the starting position '10' is the ending positon and  '1' is used for jumping**"
      ],
      "metadata": {
        "id": "WNSUu-xku0FC"
      }
    },
    {
      "cell_type": "code",
      "source": [
        "for i in range(0,10,2) :\n",
        "  print(i)"
      ],
      "metadata": {
        "colab": {
          "base_uri": "https://localhost:8080/"
        },
        "id": "BbwBLp6GxZOl",
        "outputId": "df73f68f-8998-4694-c7b3-2d8db5d6ad86"
      },
      "execution_count": 39,
      "outputs": [
        {
          "output_type": "stream",
          "name": "stdout",
          "text": [
            "0\n",
            "2\n",
            "4\n",
            "6\n",
            "8\n"
          ]
        }
      ]
    },
    {
      "cell_type": "markdown",
      "source": [
        "**In the below code '2' is used for jump**\n",
        "**jump is perform the operation on the basis of indexing** \n",
        "\n",
        "**Lets's see how to evaluate it** \n",
        "\n",
        "0 + 2 = 2 , i[2] = 2 \n",
        "\n",
        "Now i jump on the index no.2\n",
        "\n",
        "2 + 2 = 4 , i[4] = 4 \n",
        "\n",
        "Now i jump on the index no.4\n",
        "\n",
        "4 + 2 = 6 , i[6] = 6 \n",
        "\n",
        "Now again i jump on the index no.6\n",
        "\n",
        "6 + 2 = 8 , i[8] = 8 \n",
        "\n",
        "Now for the further opertion we don't have values then we stop here \n",
        "becoz if go to add 2 in 8 it becomes 10 but we have values till 9 so loop will stop here "
      ],
      "metadata": {
        "id": "uanNRxZCvVai"
      }
    },
    {
      "cell_type": "markdown",
      "source": [
        "----------------------------------------------------------------------------------------"
      ],
      "metadata": {
        "id": "36t0ADMzx089"
      }
    },
    {
      "cell_type": "markdown",
      "source": [
        "**Question No.12] Write a short program that prints the numbers 1 to 10 using a for loop. Then write an equivalent program that prints the numbers 1 to 10 using a while loop.**\n",
        "\n",
        "**ANS :=**"
      ],
      "metadata": {
        "id": "FfvDuSQ4x9yK"
      }
    },
    {
      "cell_type": "code",
      "source": [
        "for i in range(1,11) :\n",
        "  print(i)"
      ],
      "metadata": {
        "colab": {
          "base_uri": "https://localhost:8080/"
        },
        "id": "8ijO42MUvUFU",
        "outputId": "ed942dc9-adf5-4958-f8b2-4d5cc3cd0bb7"
      },
      "execution_count": 41,
      "outputs": [
        {
          "output_type": "stream",
          "name": "stdout",
          "text": [
            "1\n",
            "2\n",
            "3\n",
            "4\n",
            "5\n",
            "6\n",
            "7\n",
            "8\n",
            "9\n",
            "10\n"
          ]
        }
      ]
    },
    {
      "cell_type": "code",
      "source": [
        "i = 1 \n",
        "while i < 11 :\n",
        "  print(i)\n",
        "  i = i + 1"
      ],
      "metadata": {
        "colab": {
          "base_uri": "https://localhost:8080/"
        },
        "id": "Gq25qj6cyZ-S",
        "outputId": "b249f22e-1504-4b79-feb9-e4779259e3e4"
      },
      "execution_count": 46,
      "outputs": [
        {
          "output_type": "stream",
          "name": "stdout",
          "text": [
            "1\n",
            "2\n",
            "3\n",
            "4\n",
            "5\n",
            "6\n",
            "7\n",
            "8\n",
            "9\n",
            "10\n"
          ]
        }
      ]
    },
    {
      "cell_type": "markdown",
      "source": [
        "------------------------------------------------------------------------------------"
      ],
      "metadata": {
        "id": "Oq1AqXj_1Uso"
      }
    },
    {
      "cell_type": "markdown",
      "source": [
        "**Question No.13] If you had a function named bacon() inside a module named spam, how would you call it after importing spam?**\n",
        "\n",
        "**ANS :=** Assuming the spam module containing the bacon() function has been imported into your Python script, you can call the bacon() function like this:\n",
        "\n",
        "import spam\n",
        "\n",
        "spam.bacon()"
      ],
      "metadata": {
        "id": "oXNQlY7_y6iQ"
      }
    },
    {
      "cell_type": "code",
      "source": [],
      "metadata": {
        "id": "TfQEeZe9yg5C"
      },
      "execution_count": null,
      "outputs": []
    }
  ]
}